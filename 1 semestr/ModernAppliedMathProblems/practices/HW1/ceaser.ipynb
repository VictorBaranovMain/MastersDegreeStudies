{
 "cells": [
  {
   "cell_type": "code",
   "execution_count": 1,
   "id": "d8c0d04b",
   "metadata": {},
   "outputs": [],
   "source": [
    "import ceaser as cr"
   ]
  },
  {
   "cell_type": "code",
   "execution_count": 2,
   "id": "2eda4ee1",
   "metadata": {},
   "outputs": [
    {
     "ename": "ValueError",
     "evalue": "Empty alphabet",
     "output_type": "error",
     "traceback": [
      "\u001b[1;31m---------------------------------------------------------------------------\u001b[0m",
      "\u001b[1;31mValueError\u001b[0m                                Traceback (most recent call last)",
      "Cell \u001b[1;32mIn[2], line 1\u001b[0m\n\u001b[1;32m----> 1\u001b[0m \u001b[43mcr\u001b[49m\u001b[38;5;241;43m.\u001b[39;49m\u001b[43mCeaserEncriptionAlgorithm\u001b[49m\u001b[43m(\u001b[49m\u001b[38;5;124;43m'\u001b[39;49m\u001b[38;5;124;43m'\u001b[39;49m\u001b[43m,\u001b[49m\u001b[43m \u001b[49m\u001b[38;5;241;43m2\u001b[39;49m\u001b[43m)\u001b[49m\n",
      "File \u001b[1;32mc:\\Users\\victo\\Desktop\\MastersDegreeStudies\\1 semestr\\ModernAppliedMathProblems\\practices\\HW1\\ceaser.py:6\u001b[0m, in \u001b[0;36mCeaserEncriptionAlgorithm.__init__\u001b[1;34m(self, alphabet, shift, useEnlargedAlphabet)\u001b[0m\n\u001b[0;32m      4\u001b[0m \u001b[38;5;28;01mdef\u001b[39;00m \u001b[38;5;21m__init__\u001b[39m(\u001b[38;5;28mself\u001b[39m, alphabet:\u001b[38;5;28mstr\u001b[39m, shift:\u001b[38;5;28mint\u001b[39m, useEnlargedAlphabet \u001b[38;5;241m=\u001b[39m \u001b[38;5;28;01mFalse\u001b[39;00m):\n\u001b[0;32m      5\u001b[0m     \u001b[38;5;28;01mif\u001b[39;00m alphabet \u001b[38;5;241m==\u001b[39m\u001b[38;5;124m'\u001b[39m\u001b[38;5;124m'\u001b[39m: \n\u001b[1;32m----> 6\u001b[0m         \u001b[38;5;28;01mraise\u001b[39;00m \u001b[38;5;167;01mValueError\u001b[39;00m(\u001b[38;5;124m'\u001b[39m\u001b[38;5;124mEmpty alphabet\u001b[39m\u001b[38;5;124m'\u001b[39m)\n\u001b[0;32m      7\u001b[0m     \u001b[38;5;28mself\u001b[39m\u001b[38;5;241m.\u001b[39malphabet \u001b[38;5;241m=\u001b[39m alphabet\n\u001b[0;32m      8\u001b[0m     \u001b[38;5;66;03m#защита от дурака\u001b[39;00m\n",
      "\u001b[1;31mValueError\u001b[0m: Empty alphabet"
     ]
    }
   ],
   "source": [
    "cr.CeaserEncriptionAlgorithm('', 2)"
   ]
  },
  {
   "cell_type": "code",
   "execution_count": 3,
   "id": "d3809952",
   "metadata": {},
   "outputs": [],
   "source": [
    "alg = cr.CeaserEncriptionAlgorithm('abcdefg', 2)"
   ]
  },
  {
   "cell_type": "code",
   "execution_count": 4,
   "id": "c376ea55",
   "metadata": {},
   "outputs": [
    {
     "data": {
      "text/plain": [
       "'cdefgab'"
      ]
     },
     "execution_count": 4,
     "metadata": {},
     "output_type": "execute_result"
    }
   ],
   "source": [
    "alg.encripted_alphabet"
   ]
  },
  {
   "cell_type": "code",
   "execution_count": 5,
   "id": "ae1ec000",
   "metadata": {},
   "outputs": [
    {
     "data": {
      "text/plain": [
       "{'a': 'c', 'b': 'd', 'c': 'e', 'd': 'f', 'e': 'g', 'f': 'a', 'g': 'b'}"
      ]
     },
     "execution_count": 5,
     "metadata": {},
     "output_type": "execute_result"
    }
   ],
   "source": [
    "alg.encription_rule"
   ]
  },
  {
   "cell_type": "code",
   "execution_count": 6,
   "id": "5c188ef2",
   "metadata": {},
   "outputs": [
    {
     "data": {
      "text/plain": [
       "'cde'"
      ]
     },
     "execution_count": 6,
     "metadata": {},
     "output_type": "execute_result"
    }
   ],
   "source": [
    "alg.encript_message('abc')"
   ]
  },
  {
   "cell_type": "code",
   "execution_count": 7,
   "id": "7fdc29f5",
   "metadata": {},
   "outputs": [
    {
     "data": {
      "text/plain": [
       "'abc'"
      ]
     },
     "execution_count": 7,
     "metadata": {},
     "output_type": "execute_result"
    }
   ],
   "source": [
    "alg.decript_message('cde')"
   ]
  },
  {
   "cell_type": "code",
   "execution_count": 8,
   "id": "5a9e08e6",
   "metadata": {},
   "outputs": [],
   "source": [
    "alg = cr.CeaserEncriptionAlgorithm('абвгдеёжзийклмнопрстуфхцчшщъыьэюя', 2)"
   ]
  },
  {
   "cell_type": "code",
   "execution_count": 9,
   "id": "94df833c",
   "metadata": {},
   "outputs": [
    {
     "data": {
      "text/plain": [
       "'бпжжоргжёэ'"
      ]
     },
     "execution_count": 9,
     "metadata": {},
     "output_type": "execute_result"
    }
   ],
   "source": [
    "alg.encript_message('янеемобеды')"
   ]
  },
  {
   "cell_type": "code",
   "execution_count": 10,
   "id": "524116ba",
   "metadata": {},
   "outputs": [
    {
     "ename": "ValueError",
     "evalue": "You are using invalid alphabet",
     "output_type": "error",
     "traceback": [
      "\u001b[1;31m---------------------------------------------------------------------------\u001b[0m",
      "\u001b[1;31mValueError\u001b[0m                                Traceback (most recent call last)",
      "Cell \u001b[1;32mIn[10], line 1\u001b[0m\n\u001b[1;32m----> 1\u001b[0m \u001b[43malg\u001b[49m\u001b[38;5;241;43m.\u001b[39;49m\u001b[43mencript_message\u001b[49m\u001b[43m(\u001b[49m\u001b[38;5;124;43m'\u001b[39;49m\u001b[38;5;124;43mя не ем обеды\u001b[39;49m\u001b[38;5;124;43m'\u001b[39;49m\u001b[43m)\u001b[49m\n",
      "File \u001b[1;32mc:\\Users\\victo\\Desktop\\MastersDegreeStudies\\1 semestr\\ModernAppliedMathProblems\\practices\\HW1\\ceaser.py:34\u001b[0m, in \u001b[0;36mCeaserEncriptionAlgorithm.encript_message\u001b[1;34m(self, message)\u001b[0m\n\u001b[0;32m     32\u001b[0m         encripted_message \u001b[38;5;241m+\u001b[39m\u001b[38;5;241m=\u001b[39m \u001b[38;5;28mself\u001b[39m\u001b[38;5;241m.\u001b[39mencription_rule[symbol]\n\u001b[0;32m     33\u001b[0m     \u001b[38;5;28;01mreturn\u001b[39;00m encripted_message\n\u001b[1;32m---> 34\u001b[0m \u001b[38;5;28;01melse\u001b[39;00m: \u001b[38;5;28;01mraise\u001b[39;00m \u001b[38;5;167;01mValueError\u001b[39;00m(\u001b[38;5;124m'\u001b[39m\u001b[38;5;124mYou are using invalid alphabet\u001b[39m\u001b[38;5;124m'\u001b[39m)\n",
      "\u001b[1;31mValueError\u001b[0m: You are using invalid alphabet"
     ]
    }
   ],
   "source": [
    "alg.encript_message('я не ем обеды')"
   ]
  },
  {
   "cell_type": "code",
   "execution_count": 11,
   "id": "7f548f57",
   "metadata": {},
   "outputs": [],
   "source": [
    "alg = cr.CeaserEncriptionAlgorithm('абвгдеёжзийклмнопрстуфхцчшщъыьэюя', 2, useEnlargedAlphabet=True)"
   ]
  },
  {
   "cell_type": "code",
   "execution_count": 12,
   "id": "19205b73",
   "metadata": {},
   "outputs": [
    {
     "data": {
      "text/plain": [
       "'-пжжоргжёэ'"
      ]
     },
     "execution_count": 12,
     "metadata": {},
     "output_type": "execute_result"
    }
   ],
   "source": [
    "alg.encript_message('янеемобеды')"
   ]
  },
  {
   "cell_type": "code",
   "execution_count": 13,
   "id": "023d8906",
   "metadata": {},
   "outputs": [
    {
     "data": {
      "text/plain": [
       "'-бпжбжобргжёэ'"
      ]
     },
     "execution_count": 13,
     "metadata": {},
     "output_type": "execute_result"
    }
   ],
   "source": [
    "alg.encript_message('я не ем обеды')"
   ]
  },
  {
   "cell_type": "code",
   "execution_count": 14,
   "id": "73ae4d83",
   "metadata": {},
   "outputs": [
    {
     "data": {
      "text/plain": [
       "'фэбпжбжъюбргжёэ@?'"
      ]
     },
     "execution_count": 14,
     "metadata": {},
     "output_type": "execute_result"
    }
   ],
   "source": [
    "alg.encript_message('ты не ешь обеды?!')"
   ]
  },
  {
   "cell_type": "code",
   "execution_count": 15,
   "id": "3a0d6433",
   "metadata": {},
   "outputs": [
    {
     "data": {
      "text/plain": [
       "'ты не ешь обеды?!'"
      ]
     },
     "execution_count": 15,
     "metadata": {},
     "output_type": "execute_result"
    }
   ],
   "source": [
    "alg.decript_message('фэбпжбжъюбргжёэ@?')"
   ]
  },
  {
   "cell_type": "code",
   "execution_count": null,
   "id": "00b836a5",
   "metadata": {},
   "outputs": [],
   "source": []
  }
 ],
 "metadata": {
  "kernelspec": {
   "display_name": "Python 3",
   "language": "python",
   "name": "python3"
  },
  "language_info": {
   "codemirror_mode": {
    "name": "ipython",
    "version": 3
   },
   "file_extension": ".py",
   "mimetype": "text/x-python",
   "name": "python",
   "nbconvert_exporter": "python",
   "pygments_lexer": "ipython3",
   "version": "3.11.8"
  }
 },
 "nbformat": 4,
 "nbformat_minor": 5
}
