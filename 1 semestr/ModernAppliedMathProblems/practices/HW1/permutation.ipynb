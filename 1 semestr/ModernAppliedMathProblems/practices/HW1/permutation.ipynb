{
 "cells": [
  {
   "cell_type": "code",
   "execution_count": 2,
   "id": "991fcfa7",
   "metadata": {},
   "outputs": [],
   "source": [
    "import permutation"
   ]
  },
  {
   "cell_type": "code",
   "execution_count": 3,
   "id": "412f25c8",
   "metadata": {},
   "outputs": [],
   "source": [
    "#alg = permutation.PermutationalEncriptionAlgorithm('12 ')"
   ]
  },
  {
   "cell_type": "code",
   "execution_count": 4,
   "id": "7681e5e9",
   "metadata": {},
   "outputs": [
    {
     "data": {
      "text/plain": [
       "[1, 2, 5, 4, 0, 3]"
      ]
     },
     "execution_count": 4,
     "metadata": {},
     "output_type": "execute_result"
    }
   ],
   "source": [
    "alg = permutation.PermutationalEncriptionAlgorithm('яблоки', \"бликяо\")\n",
    "alg.reordering"
   ]
  },
  {
   "cell_type": "code",
   "execution_count": 5,
   "id": "a83ba96f",
   "metadata": {},
   "outputs": [
    {
     "data": {
      "text/plain": [
       "[4, 0, 1, 5, 3, 2]"
      ]
     },
     "execution_count": 5,
     "metadata": {},
     "output_type": "execute_result"
    }
   ],
   "source": [
    "alg.true_order"
   ]
  },
  {
   "cell_type": "code",
   "execution_count": 6,
   "id": "31efb9fc",
   "metadata": {},
   "outputs": [
    {
     "data": {
      "text/plain": [
       "'ов.'"
      ]
     },
     "execution_count": 6,
     "metadata": {},
     "output_type": "execute_result"
    }
   ],
   "source": [
    "string_to_encripted1 = 'Одним из ключевых подходов при проведении байесовского статистического анализа в современном мире является применение алгоритмов MCMC - Marcov Chain Monte Carlo, которые нашли широкое применение и за пределами байесовской статистики - например, при вычислении сложных интегралов.'\n",
    "string_to_encripted2 = 'Поезд'\n",
    "string_to_encripted1[-3:]"
   ]
  },
  {
   "cell_type": "code",
   "execution_count": null,
   "id": "0b8ac9ea",
   "metadata": {},
   "outputs": [
    {
     "data": {
      "text/plain": [
       "'Одним из ключевых подходов при проведении байесовского статистического анализа в современном мире является применение алгоритмов MCMC - Marcov Chain Monte Carlo, которые нашли широкое применение и за пределами байесовской статистики - например, при вычислении сложных интегралов.'"
      ]
     },
     "execution_count": 7,
     "metadata": {},
     "output_type": "execute_result"
    }
   ],
   "source": [
    "string_to_encripted1"
   ]
  },
  {
   "cell_type": "code",
   "execution_count": 8,
   "id": "43143de8",
   "metadata": {},
   "outputs": [
    {
     "data": {
      "text/plain": [
       "'дн мОиз юликев хчыоддопхв ироппрев оен идиайосбескогвостит атисесчога коалазнив во семннрем риом яялевтсп еяименреиелан ормтгив MCоM -aMC coC rvaiM hnntC oerl ,aoотырко нлшеа шорииоерпк менеине з ии пдеарла иемайосбеск йвотасистик- тинаир перп м,и чырвслиние сжоилыхнин еглатрв.  о '"
      ]
     },
     "execution_count": 8,
     "metadata": {},
     "output_type": "execute_result"
    }
   ],
   "source": [
    "arr = alg.encript_message(string_to_encripted1)\n",
    "arr"
   ]
  },
  {
   "cell_type": "code",
   "execution_count": 9,
   "id": "e7e203e3",
   "metadata": {},
   "outputs": [
    {
     "data": {
      "text/plain": [
       "'Одним из ключевых подходов при проведении байесовского статистического анализа в современном мире является применение алгоритмов MCMC - Marcov Chain Monte Carlo, которые нашли широкое применение и за пределами байесовской статистики - например, при вычислении сложных интегралов.         '"
      ]
     },
     "execution_count": 9,
     "metadata": {},
     "output_type": "execute_result"
    }
   ],
   "source": [
    "alg.decript_message(arr)"
   ]
  },
  {
   "cell_type": "code",
   "execution_count": 10,
   "id": "23cd2d1d",
   "metadata": {},
   "outputs": [
    {
     "data": {
      "text/plain": [
       "'ое дПз'"
      ]
     },
     "execution_count": 10,
     "metadata": {},
     "output_type": "execute_result"
    }
   ],
   "source": [
    "arr = alg.encript_message(string_to_encripted2)\n",
    "arr"
   ]
  },
  {
   "cell_type": "code",
   "execution_count": 11,
   "id": "68d94ef5",
   "metadata": {},
   "outputs": [
    {
     "data": {
      "text/plain": [
       "'Поезд       '"
      ]
     },
     "execution_count": 11,
     "metadata": {},
     "output_type": "execute_result"
    }
   ],
   "source": [
    "alg.decript_message(arr)"
   ]
  },
  {
   "cell_type": "code",
   "execution_count": 12,
   "id": "a66ce0d8",
   "metadata": {},
   "outputs": [
    {
     "data": {
      "text/plain": [
       "[6, 5, 3, 4, 1, 0, 2]"
      ]
     },
     "execution_count": 12,
     "metadata": {},
     "output_type": "execute_result"
    }
   ],
   "source": [
    "alg = permutation.PermutationalEncriptionAlgorithm('сборник', \"кирнбсо\")\n",
    "alg.reordering"
   ]
  },
  {
   "cell_type": "code",
   "execution_count": 13,
   "id": "824399b7",
   "metadata": {},
   "outputs": [
    {
     "data": {
      "text/plain": [
       "'и имдОнечлю зкдо пывхп овохдвоприр  инидеевоесабйс гоксоитисаттогкоечсзиала нво с авоненерм еир ммстяевялемри япа иееннмтриглоCMMCво crMa-  iaChvo eton nM,orlC aырток оилаш енокрош иемри епи иееннер пз а иамедлвоесабйтсй ксокисттаипа н и- ,ерирмчы врпиииенсилыножс лгент хи .оварл'"
      ]
     },
     "execution_count": 13,
     "metadata": {},
     "output_type": "execute_result"
    }
   ],
   "source": [
    "arr = alg.encript_message(string_to_encripted1)\n",
    "arr"
   ]
  },
  {
   "cell_type": "code",
   "execution_count": 14,
   "id": "bfe74b2d",
   "metadata": {},
   "outputs": [
    {
     "data": {
      "text/plain": [
       "'Одним из ключевых подходов при проведении байесовского статистического анализа в современном мире является применение алгоритмов MCMC - Marcov Chain Monte Carlo, которые нашли широкое применение и за пределами байесовской статистики - например, при вычислении сложных интегралов.        '"
      ]
     },
     "execution_count": 14,
     "metadata": {},
     "output_type": "execute_result"
    }
   ],
   "source": [
    "alg.decript_message(arr)"
   ]
  },
  {
   "cell_type": "code",
   "execution_count": null,
   "id": "1d9dfd4b",
   "metadata": {},
   "outputs": [],
   "source": []
  }
 ],
 "metadata": {
  "kernelspec": {
   "display_name": "Python 3",
   "language": "python",
   "name": "python3"
  },
  "language_info": {
   "codemirror_mode": {
    "name": "ipython",
    "version": 3
   },
   "file_extension": ".py",
   "mimetype": "text/x-python",
   "name": "python",
   "nbconvert_exporter": "python",
   "pygments_lexer": "ipython3",
   "version": "3.11.8"
  }
 },
 "nbformat": 4,
 "nbformat_minor": 5
}
