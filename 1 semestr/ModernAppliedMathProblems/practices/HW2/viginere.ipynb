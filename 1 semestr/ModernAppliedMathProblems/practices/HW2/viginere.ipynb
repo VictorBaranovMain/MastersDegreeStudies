{
 "cells": [
  {
   "cell_type": "code",
   "execution_count": 1,
   "id": "cefa0b37",
   "metadata": {},
   "outputs": [],
   "source": [
    "import viginere"
   ]
  },
  {
   "cell_type": "code",
   "execution_count": 2,
   "id": "9381f256",
   "metadata": {},
   "outputs": [],
   "source": [
    "vAlg = viginere.VigenereAlgorithm('KEY')"
   ]
  },
  {
   "cell_type": "code",
   "execution_count": 3,
   "id": "f4821980",
   "metadata": {},
   "outputs": [
    {
     "data": {
      "text/plain": [
       "'HFNLP'"
      ]
     },
     "execution_count": 3,
     "metadata": {},
     "output_type": "execute_result"
    }
   ],
   "source": [
    "vAlg.encript('HELLO')#.index['A']"
   ]
  },
  {
   "cell_type": "code",
   "execution_count": 4,
   "id": "9fd11dd5",
   "metadata": {},
   "outputs": [
    {
     "data": {
      "text/plain": [
       "'HELLO'"
      ]
     },
     "execution_count": 4,
     "metadata": {},
     "output_type": "execute_result"
    }
   ],
   "source": [
    "vAlg.decript('HFNLP')"
   ]
  },
  {
   "cell_type": "code",
   "execution_count": 5,
   "id": "d4f863e2",
   "metadata": {},
   "outputs": [],
   "source": [
    "vAlg = viginere.VigenereAlgorithm('KEY', 'йцукенгшщзхъфывапролджэячсмитьбюё', useEnlarged=True)"
   ]
  },
  {
   "cell_type": "code",
   "execution_count": 7,
   "id": "6308ab70",
   "metadata": {},
   "outputs": [
    {
     "data": {
      "text/plain": [
       "'ожшиицихцкд.чнпыъцплэхлэоацпоь рлоагдншитцбпуемдвмношд мбаььсььчниклщойрнпжихр ацслпрнтегшоицмтлейсвдсеьияйорттеггнтг пжгллиьтоа; едтллынцнпзлтцштлоедейорттеггнтг тцзпцпогднжаиь юрйниоаиклу мбаььсььктц-йшарлиигр/цпоь аачтилншитцсдджгахйьньггорллп.'"
      ]
     },
     "execution_count": 7,
     "metadata": {},
     "output_type": "execute_result"
    }
   ],
   "source": [
    "msg = 'одним из ключевых подходов при проведении байесовского статистического анализа в современном мире является применение алгоритмов, которые нашли широкое применение и за пределами байесовской статистики - например, при вычислении сложных интегралов.'\n",
    "res = vAlg.encript(msg)\n",
    "res"
   ]
  },
  {
   "cell_type": "code",
   "execution_count": 8,
   "id": "9693631b",
   "metadata": {},
   "outputs": [
    {
     "data": {
      "text/plain": [
       "'одним из ключевых подходов при проведении байесовского статистического анализа в современном мире является применение алгоритмов, которые нашли широкое применение и за пределами байесовской статистики - например, при вычислении сложных интегралов.'"
      ]
     },
     "execution_count": 8,
     "metadata": {},
     "output_type": "execute_result"
    }
   ],
   "source": [
    "vAlg.decript(res)"
   ]
  },
  {
   "cell_type": "code",
   "execution_count": null,
   "id": "9f331207",
   "metadata": {},
   "outputs": [],
   "source": []
  }
 ],
 "metadata": {
  "kernelspec": {
   "display_name": "Python 3",
   "language": "python",
   "name": "python3"
  },
  "language_info": {
   "codemirror_mode": {
    "name": "ipython",
    "version": 3
   },
   "file_extension": ".py",
   "mimetype": "text/x-python",
   "name": "python",
   "nbconvert_exporter": "python",
   "pygments_lexer": "ipython3",
   "version": "3.11.8"
  }
 },
 "nbformat": 4,
 "nbformat_minor": 5
}
